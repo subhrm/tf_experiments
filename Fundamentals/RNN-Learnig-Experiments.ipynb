{
 "cells": [
  {
   "attachments": {},
   "cell_type": "markdown",
   "metadata": {},
   "source": [
    "## RNN Learning Experiments\n",
    "\n",
    "### 1. Learn diff bewteen Min and Max. `max(seq) - min(seq)`"
   ]
  },
  {
   "cell_type": "code",
   "execution_count": 1,
   "metadata": {},
   "outputs": [],
   "source": [
    "import numpy as np\n",
    "import pandas as pd\n",
    "import tensorflow as tf\n",
    "from tensorflow import keras\n",
    "import matplotlib.pyplot as plt\n",
    "%matplotlib inline"
   ]
  },
  {
   "cell_type": "code",
   "execution_count": 2,
   "metadata": {},
   "outputs": [
    {
     "name": "stdout",
     "output_type": "stream",
     "text": [
      "(512, 20) (512,)\n"
     ]
    }
   ],
   "source": [
    "N = 512\n",
    "D = 20\n",
    "x = (np.random.random((N,D)) - 0.5) * 2.0\n",
    "w = np.random.random(D).reshape((D,1))\n",
    "y = (x@w).flatten()\n",
    "print(x.shape, y.shape)"
   ]
  },
  {
   "cell_type": "code",
   "execution_count": 3,
   "metadata": {},
   "outputs": [],
   "source": [
    "# x[0], w, y[0]"
   ]
  },
  {
   "cell_type": "code",
   "execution_count": 4,
   "metadata": {},
   "outputs": [
    {
     "data": {
      "image/png": "[encoded data removed]",
      "text/plain": [
       "<Figure size 640x480 with 1 Axes>"
      ]
     },
     "metadata": {},
     "output_type": "display_data"
    }
   ],
   "source": [
    "_= plt.hist(y, bins=32)"
   ]
  },
  {
   "cell_type": "code",
   "execution_count": 9,
   "metadata": {},
   "outputs": [
    {
     "name": "stdout",
     "output_type": "stream",
     "text": [
      "WARNING:tensorflow:Layer lstm will not use cuDNN kernels since it doesn't meet the criteria. It will use a generic GPU kernel as fallback when running on GPU.\n",
      "Model: \"sequential\"\n",
      "_________________________________________________________________\n",
      " Layer (type)                Output Shape              Param #   \n",
      "=================================================================\n",
      " reshape (Reshape)           (None, 20, 1)             0         \n",
      "                                                                 \n",
      " lstm (LSTM)                 (None, 1)                 12        \n",
      "                                                                 \n",
      "=================================================================\n",
      "Total params: 12\n",
      "Trainable params: 12\n",
      "Non-trainable params: 0\n",
      "_________________________________________________________________\n",
      "Epoch 1/100\n",
      "28/28 [==============================] - 2s 62ms/step - loss: 2.5253 - mse: 2.5253 - val_loss: 2.2295 - val_mse: 2.2295\n",
      "Epoch 2/100\n",
      "28/28 [==============================] - 1s 52ms/step - loss: 2.5196 - mse: 2.5196 - val_loss: 2.2297 - val_mse: 2.2297\n",
      "Epoch 3/100\n",
      "28/28 [==============================] - 1s 52ms/step - loss: 2.5164 - mse: 2.5164 - val_loss: 2.2302 - val_mse: 2.2302\n",
      "Epoch 4/100\n",
      "28/28 [==============================] - 2s 56ms/step - loss: 2.5140 - mse: 2.5140 - val_loss: 2.2306 - val_mse: 2.2306\n",
      "Epoch 5/100\n",
      "28/28 [==============================] - 2s 55ms/step - loss: 2.5125 - mse: 2.5125 - val_loss: 2.2314 - val_mse: 2.2314\n",
      "Epoch 6/100\n",
      "28/28 [==============================] - 1s 53ms/step - loss: 2.5106 - mse: 2.5106 - val_loss: 2.2313 - val_mse: 2.2313\n",
      "Epoch 7/100\n",
      "28/28 [==============================] - 2s 54ms/step - loss: 2.5092 - mse: 2.5092 - val_loss: 2.2305 - val_mse: 2.2305\n",
      "Epoch 8/100\n",
      "28/28 [==============================] - 2s 55ms/step - loss: 2.5080 - mse: 2.5080 - val_loss: 2.2308 - val_mse: 2.2308\n",
      "Epoch 9/100\n",
      "28/28 [==============================] - 1s 52ms/step - loss: 2.5069 - mse: 2.5069 - val_loss: 2.2301 - val_mse: 2.2301\n",
      "Epoch 10/100\n",
      "28/28 [==============================] - 1s 53ms/step - loss: 2.5062 - mse: 2.5062 - val_loss: 2.2293 - val_mse: 2.2293\n",
      "Epoch 11/100\n",
      "28/28 [==============================] - 2s 54ms/step - loss: 2.5055 - mse: 2.5055 - val_loss: 2.2295 - val_mse: 2.2295\n",
      "Epoch 12/100\n",
      "28/28 [==============================] - 1s 52ms/step - loss: 2.5049 - mse: 2.5049 - val_loss: 2.2292 - val_mse: 2.2292\n",
      "Epoch 13/100\n",
      "28/28 [==============================] - 1s 52ms/step - loss: 2.5041 - mse: 2.5041 - val_loss: 2.2278 - val_mse: 2.2278\n",
      "Epoch 14/100\n",
      "28/28 [==============================] - 1s 52ms/step - loss: 2.5037 - mse: 2.5037 - val_loss: 2.2268 - val_mse: 2.2268\n",
      "Epoch 15/100\n",
      "28/28 [==============================] - 1s 52ms/step - loss: 2.5031 - mse: 2.5031 - val_loss: 2.2255 - val_mse: 2.2255\n",
      "Epoch 16/100\n",
      "28/28 [==============================] - 1s 52ms/step - loss: 2.5022 - mse: 2.5022 - val_loss: 2.2231 - val_mse: 2.2231\n",
      "Epoch 17/100\n",
      "28/28 [==============================] - 2s 58ms/step - loss: 2.5019 - mse: 2.5019 - val_loss: 2.2227 - val_mse: 2.2227\n",
      "Epoch 18/100\n",
      "28/28 [==============================] - 1s 52ms/step - loss: 2.5010 - mse: 2.5010 - val_loss: 2.2176 - val_mse: 2.2176\n",
      "Epoch 19/100\n",
      "28/28 [==============================] - 1s 52ms/step - loss: 2.4991 - mse: 2.4991 - val_loss: 2.2144 - val_mse: 2.2144\n",
      "Epoch 20/100\n",
      "28/28 [==============================] - 1s 53ms/step - loss: 2.4992 - mse: 2.4992 - val_loss: 2.2066 - val_mse: 2.2066\n",
      "Epoch 21/100\n",
      "28/28 [==============================] - 1s 53ms/step - loss: 2.4958 - mse: 2.4958 - val_loss: 2.1975 - val_mse: 2.1975\n",
      "Epoch 22/100\n",
      "28/28 [==============================] - 1s 53ms/step - loss: 2.4932 - mse: 2.4932 - val_loss: 2.1919 - val_mse: 2.1919\n",
      "Epoch 23/100\n",
      "28/28 [==============================] - 2s 61ms/step - loss: 2.4915 - mse: 2.4915 - val_loss: 2.1843 - val_mse: 2.1843\n",
      "Epoch 24/100\n",
      "28/28 [==============================] - 2s 54ms/step - loss: 2.4886 - mse: 2.4886 - val_loss: 2.1643 - val_mse: 2.1643\n",
      "Epoch 25/100\n",
      "28/28 [==============================] - 2s 55ms/step - loss: 2.4934 - mse: 2.4934 - val_loss: 2.1276 - val_mse: 2.1276\n",
      "Epoch 26/100\n",
      "28/28 [==============================] - 1s 52ms/step - loss: 2.4820 - mse: 2.4820 - val_loss: 2.1159 - val_mse: 2.1159\n",
      "Epoch 27/100\n",
      "28/28 [==============================] - 2s 54ms/step - loss: 2.4714 - mse: 2.4714 - val_loss: 2.0974 - val_mse: 2.0974\n",
      "Epoch 28/100\n",
      "28/28 [==============================] - 2s 54ms/step - loss: 2.4654 - mse: 2.4654 - val_loss: 2.0693 - val_mse: 2.0693\n",
      "Epoch 29/100\n",
      "28/28 [==============================] - 2s 55ms/step - loss: 2.4512 - mse: 2.4512 - val_loss: 2.0490 - val_mse: 2.0490\n",
      "Epoch 30/100\n",
      "28/28 [==============================] - 1s 52ms/step - loss: 2.4316 - mse: 2.4316 - val_loss: 2.0200 - val_mse: 2.0200\n",
      "Epoch 31/100\n",
      "28/28 [==============================] - 1s 53ms/step - loss: 2.4167 - mse: 2.4167 - val_loss: 1.9826 - val_mse: 1.9826\n",
      "Epoch 32/100\n",
      "28/28 [==============================] - 1s 54ms/step - loss: 2.3813 - mse: 2.3813 - val_loss: 1.9117 - val_mse: 1.9117\n",
      "Epoch 33/100\n",
      "28/28 [==============================] - 2s 54ms/step - loss: 2.3707 - mse: 2.3707 - val_loss: 1.8837 - val_mse: 1.8837\n",
      "Epoch 34/100\n",
      "28/28 [==============================] - 2s 56ms/step - loss: 2.3138 - mse: 2.3138 - val_loss: 1.8797 - val_mse: 1.8797\n",
      "Epoch 35/100\n",
      "28/28 [==============================] - 2s 54ms/step - loss: 2.2884 - mse: 2.2884 - val_loss: 1.8609 - val_mse: 1.8609\n",
      "Epoch 36/100\n",
      "28/28 [==============================] - 2s 55ms/step - loss: 2.2685 - mse: 2.2685 - val_loss: 1.8431 - val_mse: 1.8431\n",
      "Epoch 37/100\n",
      "28/28 [==============================] - 1s 53ms/step - loss: 2.2402 - mse: 2.2402 - val_loss: 1.8373 - val_mse: 1.8373\n",
      "Epoch 38/100\n",
      "28/28 [==============================] - 2s 55ms/step - loss: 2.2517 - mse: 2.2517 - val_loss: 1.8223 - val_mse: 1.8223\n",
      "Epoch 39/100\n",
      "28/28 [==============================] - 2s 54ms/step - loss: 2.2170 - mse: 2.2170 - val_loss: 1.8269 - val_mse: 1.8269\n",
      "Epoch 40/100\n",
      "28/28 [==============================] - 2s 54ms/step - loss: 2.2128 - mse: 2.2128 - val_loss: 1.8112 - val_mse: 1.8112\n",
      "Epoch 41/100\n",
      "28/28 [==============================] - 1s 51ms/step - loss: 2.2391 - mse: 2.2391 - val_loss: 1.8021 - val_mse: 1.8021\n",
      "Epoch 42/100\n",
      "28/28 [==============================] - 2s 56ms/step - loss: 2.1890 - mse: 2.1890 - val_loss: 1.7951 - val_mse: 1.7951\n",
      "Epoch 43/100\n",
      "28/28 [==============================] - 2s 54ms/step - loss: 2.1676 - mse: 2.1676 - val_loss: 1.7325 - val_mse: 1.7325\n",
      "Epoch 44/100\n",
      "28/28 [==============================] - 1s 53ms/step - loss: 2.1805 - mse: 2.1805 - val_loss: 1.7553 - val_mse: 1.7553\n",
      "Epoch 45/100\n",
      "28/28 [==============================] - 1s 54ms/step - loss: 2.1390 - mse: 2.1390 - val_loss: 1.7275 - val_mse: 1.7275\n",
      "Epoch 46/100\n",
      "28/28 [==============================] - 1s 53ms/step - loss: 2.1566 - mse: 2.1566 - val_loss: 1.7130 - val_mse: 1.7130\n",
      "Epoch 47/100\n",
      "28/28 [==============================] - 1s 53ms/step - loss: 2.1237 - mse: 2.1237 - val_loss: 1.7155 - val_mse: 1.7155\n",
      "Epoch 48/100\n",
      "28/28 [==============================] - 1s 53ms/step - loss: 2.1135 - mse: 2.1135 - val_loss: 1.7140 - val_mse: 1.7140\n",
      "Epoch 49/100\n",
      "28/28 [==============================] - 1s 53ms/step - loss: 2.1064 - mse: 2.1064 - val_loss: 1.7136 - val_mse: 1.7136\n",
      "Epoch 50/100\n",
      "28/28 [==============================] - 2s 57ms/step - loss: 2.1100 - mse: 2.1100 - val_loss: 1.7126 - val_mse: 1.7126\n",
      "Epoch 51/100\n",
      "28/28 [==============================] - 1s 52ms/step - loss: 2.0819 - mse: 2.0819 - val_loss: 1.6983 - val_mse: 1.6983\n",
      "Epoch 52/100\n",
      "28/28 [==============================] - 1s 52ms/step - loss: 2.0754 - mse: 2.0754 - val_loss: 1.6960 - val_mse: 1.6960\n",
      "Epoch 53/100\n",
      "28/28 [==============================] - 1s 51ms/step - loss: 2.0673 - mse: 2.0673 - val_loss: 1.6894 - val_mse: 1.6894\n",
      "Epoch 54/100\n",
      "28/28 [==============================] - 1s 53ms/step - loss: 2.0619 - mse: 2.0619 - val_loss: 1.6882 - val_mse: 1.6882\n",
      "Epoch 55/100\n",
      "28/28 [==============================] - 2s 55ms/step - loss: 2.0515 - mse: 2.0515 - val_loss: 1.6921 - val_mse: 1.6921\n",
      "Epoch 56/100\n",
      "28/28 [==============================] - 1s 53ms/step - loss: 2.0432 - mse: 2.0432 - val_loss: 1.6837 - val_mse: 1.6837\n",
      "Epoch 57/100\n",
      "28/28 [==============================] - 1s 53ms/step - loss: 2.0476 - mse: 2.0476 - val_loss: 1.6868 - val_mse: 1.6868\n",
      "Epoch 58/100\n",
      "28/28 [==============================] - 2s 54ms/step - loss: 2.0434 - mse: 2.0434 - val_loss: 1.6765 - val_mse: 1.6765\n",
      "Epoch 59/100\n",
      "28/28 [==============================] - 2s 54ms/step - loss: 2.0266 - mse: 2.0266 - val_loss: 1.6792 - val_mse: 1.6792\n",
      "Epoch 60/100\n",
      "28/28 [==============================] - 1s 53ms/step - loss: 2.0253 - mse: 2.0253 - val_loss: 1.6746 - val_mse: 1.6746\n",
      "Epoch 61/100\n",
      "28/28 [==============================] - 2s 58ms/step - loss: 2.0150 - mse: 2.0150 - val_loss: 1.6743 - val_mse: 1.6743\n",
      "Epoch 62/100\n",
      "28/28 [==============================] - 1s 53ms/step - loss: 2.0080 - mse: 2.0080 - val_loss: 1.6724 - val_mse: 1.6724\n",
      "Epoch 63/100\n",
      "28/28 [==============================] - 2s 59ms/step - loss: 2.0029 - mse: 2.0029 - val_loss: 1.6693 - val_mse: 1.6693\n",
      "Epoch 64/100\n",
      "28/28 [==============================] - 1s 52ms/step - loss: 2.0012 - mse: 2.0012 - val_loss: 1.6681 - val_mse: 1.6681\n",
      "Epoch 65/100\n",
      "28/28 [==============================] - 1s 52ms/step - loss: 1.9947 - mse: 1.9947 - val_loss: 1.6664 - val_mse: 1.6664\n",
      "Epoch 66/100\n",
      "28/28 [==============================] - 1s 53ms/step - loss: 1.9924 - mse: 1.9924 - val_loss: 1.6661 - val_mse: 1.6661\n",
      "Epoch 67/100\n",
      "28/28 [==============================] - 1s 53ms/step - loss: 1.9862 - mse: 1.9862 - val_loss: 1.6618 - val_mse: 1.6618\n",
      "Epoch 68/100\n",
      "28/28 [==============================] - 1s 53ms/step - loss: 1.9715 - mse: 1.9715 - val_loss: 1.6612 - val_mse: 1.6612\n",
      "Epoch 69/100\n",
      "28/28 [==============================] - 2s 57ms/step - loss: 1.9652 - mse: 1.9652 - val_loss: 1.6548 - val_mse: 1.6548\n",
      "Epoch 70/100\n",
      " 1/28 [>.............................] - ETA: 1s - loss: 0.8733 - mse: 0.8733"
     ]
    },
    {
     "ename": "KeyboardInterrupt",
     "evalue": "",
     "output_type": "error",
     "traceback": [
      "\u001b[1;31m---------------------------------------------------------------------------\u001b[0m",
      "\u001b[1;31mKeyboardInterrupt\u001b[0m                         Traceback (most recent call last)",
      "Cell \u001b[1;32mIn[9], line 15\u001b[0m\n\u001b[0;32m     12\u001b[0m     \u001b[39mreturn\u001b[39;00m model\n\u001b[0;32m     14\u001b[0m model \u001b[39m=\u001b[39m create_model(input_dim\u001b[39m=\u001b[39mD)\n\u001b[1;32m---> 15\u001b[0m hist \u001b[39m=\u001b[39m model\u001b[39m.\u001b[39;49mfit( x,y, batch_size\u001b[39m=\u001b[39;49m\u001b[39m16\u001b[39;49m, epochs\u001b[39m=\u001b[39;49m\u001b[39m100\u001b[39;49m,verbose\u001b[39m=\u001b[39;49m\u001b[39m1\u001b[39;49m, validation_split\u001b[39m=\u001b[39;49m\u001b[39m0.125\u001b[39;49m)\n\u001b[0;32m     16\u001b[0m hdf \u001b[39m=\u001b[39m pd\u001b[39m.\u001b[39mDataFrame(hist\u001b[39m.\u001b[39mhistory)\n\u001b[0;32m     17\u001b[0m hdf\u001b[39m.\u001b[39mplot()\n",
      "File \u001b[1;32mc:\\Users\\7891zb\\Miniconda3\\envs\\tfenv\\lib\\site-packages\\keras\\utils\\traceback_utils.py:65\u001b[0m, in \u001b[0;36mfilter_traceback.<locals>.error_handler\u001b[1;34m(*args, **kwargs)\u001b[0m\n\u001b[0;32m     63\u001b[0m filtered_tb \u001b[39m=\u001b[39m \u001b[39mNone\u001b[39;00m\n\u001b[0;32m     64\u001b[0m \u001b[39mtry\u001b[39;00m:\n\u001b[1;32m---> 65\u001b[0m     \u001b[39mreturn\u001b[39;00m fn(\u001b[39m*\u001b[39margs, \u001b[39m*\u001b[39m\u001b[39m*\u001b[39mkwargs)\n\u001b[0;32m     66\u001b[0m \u001b[39mexcept\u001b[39;00m \u001b[39mException\u001b[39;00m \u001b[39mas\u001b[39;00m e:\n\u001b[0;32m     67\u001b[0m     filtered_tb \u001b[39m=\u001b[39m _process_traceback_frames(e\u001b[39m.\u001b[39m__traceback__)\n",
      "File \u001b[1;32mc:\\Users\\7891zb\\Miniconda3\\envs\\tfenv\\lib\\site-packages\\keras\\engine\\training.py:1570\u001b[0m, in \u001b[0;36mModel.fit\u001b[1;34m(self, x, y, batch_size, epochs, verbose, callbacks, validation_split, validation_data, shuffle, class_weight, sample_weight, initial_epoch, steps_per_epoch, validation_steps, validation_batch_size, validation_freq, max_queue_size, workers, use_multiprocessing)\u001b[0m\n\u001b[0;32m   1568\u001b[0m logs \u001b[39m=\u001b[39m tmp_logs\n\u001b[0;32m   1569\u001b[0m end_step \u001b[39m=\u001b[39m step \u001b[39m+\u001b[39m data_handler\u001b[39m.\u001b[39mstep_increment\n\u001b[1;32m-> 1570\u001b[0m callbacks\u001b[39m.\u001b[39;49mon_train_batch_end(end_step, logs)\n\u001b[0;32m   1571\u001b[0m \u001b[39mif\u001b[39;00m \u001b[39mself\u001b[39m\u001b[39m.\u001b[39mstop_training:\n\u001b[0;32m   1572\u001b[0m     \u001b[39mbreak\u001b[39;00m\n",
      "File \u001b[1;32mc:\\Users\\7891zb\\Miniconda3\\envs\\tfenv\\lib\\site-packages\\keras\\callbacks.py:470\u001b[0m, in \u001b[0;36mCallbackList.on_train_batch_end\u001b[1;34m(self, batch, logs)\u001b[0m\n\u001b[0;32m    463\u001b[0m \u001b[39m\"\"\"Calls the `on_train_batch_end` methods of its callbacks.\u001b[39;00m\n\u001b[0;32m    464\u001b[0m \n\u001b[0;32m    465\u001b[0m \u001b[39mArgs:\u001b[39;00m\n\u001b[0;32m    466\u001b[0m \u001b[39m    batch: Integer, index of batch within the current epoch.\u001b[39;00m\n\u001b[0;32m    467\u001b[0m \u001b[39m    logs: Dict. Aggregated metric results up until this batch.\u001b[39;00m\n\u001b[0;32m    468\u001b[0m \u001b[39m\"\"\"\u001b[39;00m\n\u001b[0;32m    469\u001b[0m \u001b[39mif\u001b[39;00m \u001b[39mself\u001b[39m\u001b[39m.\u001b[39m_should_call_train_batch_hooks:\n\u001b[1;32m--> 470\u001b[0m     \u001b[39mself\u001b[39;49m\u001b[39m.\u001b[39;49m_call_batch_hook(ModeKeys\u001b[39m.\u001b[39;49mTRAIN, \u001b[39m\"\u001b[39;49m\u001b[39mend\u001b[39;49m\u001b[39m\"\u001b[39;49m, batch, logs\u001b[39m=\u001b[39;49mlogs)\n",
      "File \u001b[1;32mc:\\Users\\7891zb\\Miniconda3\\envs\\tfenv\\lib\\site-packages\\keras\\callbacks.py:317\u001b[0m, in \u001b[0;36mCallbackList._call_batch_hook\u001b[1;34m(self, mode, hook, batch, logs)\u001b[0m\n\u001b[0;32m    315\u001b[0m     \u001b[39mself\u001b[39m\u001b[39m.\u001b[39m_call_batch_begin_hook(mode, batch, logs)\n\u001b[0;32m    316\u001b[0m \u001b[39melif\u001b[39;00m hook \u001b[39m==\u001b[39m \u001b[39m\"\u001b[39m\u001b[39mend\u001b[39m\u001b[39m\"\u001b[39m:\n\u001b[1;32m--> 317\u001b[0m     \u001b[39mself\u001b[39;49m\u001b[39m.\u001b[39;49m_call_batch_end_hook(mode, batch, logs)\n\u001b[0;32m    318\u001b[0m \u001b[39melse\u001b[39;00m:\n\u001b[0;32m    319\u001b[0m     \u001b[39mraise\u001b[39;00m \u001b[39mValueError\u001b[39;00m(\n\u001b[0;32m    320\u001b[0m         \u001b[39mf\u001b[39m\u001b[39m\"\u001b[39m\u001b[39mUnrecognized hook: \u001b[39m\u001b[39m{\u001b[39;00mhook\u001b[39m}\u001b[39;00m\u001b[39m. \u001b[39m\u001b[39m\"\u001b[39m\n\u001b[0;32m    321\u001b[0m         \u001b[39m'\u001b[39m\u001b[39mExpected values are [\u001b[39m\u001b[39m\"\u001b[39m\u001b[39mbegin\u001b[39m\u001b[39m\"\u001b[39m\u001b[39m, \u001b[39m\u001b[39m\"\u001b[39m\u001b[39mend\u001b[39m\u001b[39m\"\u001b[39m\u001b[39m]\u001b[39m\u001b[39m'\u001b[39m\n\u001b[0;32m    322\u001b[0m     )\n",
      "File \u001b[1;32mc:\\Users\\7891zb\\Miniconda3\\envs\\tfenv\\lib\\site-packages\\keras\\callbacks.py:340\u001b[0m, in \u001b[0;36mCallbackList._call_batch_end_hook\u001b[1;34m(self, mode, batch, logs)\u001b[0m\n\u001b[0;32m    337\u001b[0m     batch_time \u001b[39m=\u001b[39m time\u001b[39m.\u001b[39mtime() \u001b[39m-\u001b[39m \u001b[39mself\u001b[39m\u001b[39m.\u001b[39m_batch_start_time\n\u001b[0;32m    338\u001b[0m     \u001b[39mself\u001b[39m\u001b[39m.\u001b[39m_batch_times\u001b[39m.\u001b[39mappend(batch_time)\n\u001b[1;32m--> 340\u001b[0m \u001b[39mself\u001b[39;49m\u001b[39m.\u001b[39;49m_call_batch_hook_helper(hook_name, batch, logs)\n\u001b[0;32m    342\u001b[0m \u001b[39mif\u001b[39;00m \u001b[39mlen\u001b[39m(\u001b[39mself\u001b[39m\u001b[39m.\u001b[39m_batch_times) \u001b[39m>\u001b[39m\u001b[39m=\u001b[39m \u001b[39mself\u001b[39m\u001b[39m.\u001b[39m_num_batches_for_timing_check:\n\u001b[0;32m    343\u001b[0m     end_hook_name \u001b[39m=\u001b[39m hook_name\n",
      "File \u001b[1;32mc:\\Users\\7891zb\\Miniconda3\\envs\\tfenv\\lib\\site-packages\\keras\\callbacks.py:388\u001b[0m, in \u001b[0;36mCallbackList._call_batch_hook_helper\u001b[1;34m(self, hook_name, batch, logs)\u001b[0m\n\u001b[0;32m    386\u001b[0m \u001b[39mfor\u001b[39;00m callback \u001b[39min\u001b[39;00m \u001b[39mself\u001b[39m\u001b[39m.\u001b[39mcallbacks:\n\u001b[0;32m    387\u001b[0m     hook \u001b[39m=\u001b[39m \u001b[39mgetattr\u001b[39m(callback, hook_name)\n\u001b[1;32m--> 388\u001b[0m     hook(batch, logs)\n\u001b[0;32m    390\u001b[0m \u001b[39mif\u001b[39;00m \u001b[39mself\u001b[39m\u001b[39m.\u001b[39m_check_timing:\n\u001b[0;32m    391\u001b[0m     \u001b[39mif\u001b[39;00m hook_name \u001b[39mnot\u001b[39;00m \u001b[39min\u001b[39;00m \u001b[39mself\u001b[39m\u001b[39m.\u001b[39m_hook_times:\n",
      "File \u001b[1;32mc:\\Users\\7891zb\\Miniconda3\\envs\\tfenv\\lib\\site-packages\\keras\\callbacks.py:1081\u001b[0m, in \u001b[0;36mProgbarLogger.on_train_batch_end\u001b[1;34m(self, batch, logs)\u001b[0m\n\u001b[0;32m   1080\u001b[0m \u001b[39mdef\u001b[39;00m \u001b[39mon_train_batch_end\u001b[39m(\u001b[39mself\u001b[39m, batch, logs\u001b[39m=\u001b[39m\u001b[39mNone\u001b[39;00m):\n\u001b[1;32m-> 1081\u001b[0m     \u001b[39mself\u001b[39;49m\u001b[39m.\u001b[39;49m_batch_update_progbar(batch, logs)\n",
      "File \u001b[1;32mc:\\Users\\7891zb\\Miniconda3\\envs\\tfenv\\lib\\site-packages\\keras\\callbacks.py:1157\u001b[0m, in \u001b[0;36mProgbarLogger._batch_update_progbar\u001b[1;34m(self, batch, logs)\u001b[0m\n\u001b[0;32m   1153\u001b[0m     \u001b[39mself\u001b[39m\u001b[39m.\u001b[39mseen \u001b[39m+\u001b[39m\u001b[39m=\u001b[39m add_seen\n\u001b[0;32m   1155\u001b[0m \u001b[39mif\u001b[39;00m \u001b[39mself\u001b[39m\u001b[39m.\u001b[39mverbose \u001b[39m==\u001b[39m \u001b[39m1\u001b[39m:\n\u001b[0;32m   1156\u001b[0m     \u001b[39m# Only block async when verbose = 1.\u001b[39;00m\n\u001b[1;32m-> 1157\u001b[0m     logs \u001b[39m=\u001b[39m tf_utils\u001b[39m.\u001b[39;49msync_to_numpy_or_python_type(logs)\n\u001b[0;32m   1158\u001b[0m     \u001b[39mself\u001b[39m\u001b[39m.\u001b[39mprogbar\u001b[39m.\u001b[39mupdate(\u001b[39mself\u001b[39m\u001b[39m.\u001b[39mseen, \u001b[39mlist\u001b[39m(logs\u001b[39m.\u001b[39mitems()), finalize\u001b[39m=\u001b[39m\u001b[39mFalse\u001b[39;00m)\n",
      "File \u001b[1;32mc:\\Users\\7891zb\\Miniconda3\\envs\\tfenv\\lib\\site-packages\\keras\\utils\\tf_utils.py:635\u001b[0m, in \u001b[0;36msync_to_numpy_or_python_type\u001b[1;34m(tensors)\u001b[0m\n\u001b[0;32m    632\u001b[0m         \u001b[39mreturn\u001b[39;00m t\n\u001b[0;32m    633\u001b[0m     \u001b[39mreturn\u001b[39;00m t\u001b[39m.\u001b[39mitem() \u001b[39mif\u001b[39;00m np\u001b[39m.\u001b[39mndim(t) \u001b[39m==\u001b[39m \u001b[39m0\u001b[39m \u001b[39melse\u001b[39;00m t\n\u001b[1;32m--> 635\u001b[0m \u001b[39mreturn\u001b[39;00m tf\u001b[39m.\u001b[39;49mnest\u001b[39m.\u001b[39;49mmap_structure(_to_single_numpy_or_python_type, tensors)\n",
      "File \u001b[1;32mc:\\Users\\7891zb\\Miniconda3\\envs\\tfenv\\lib\\site-packages\\tensorflow\\python\\util\\nest.py:917\u001b[0m, in \u001b[0;36mmap_structure\u001b[1;34m(func, *structure, **kwargs)\u001b[0m\n\u001b[0;32m    913\u001b[0m flat_structure \u001b[39m=\u001b[39m (flatten(s, expand_composites) \u001b[39mfor\u001b[39;00m s \u001b[39min\u001b[39;00m structure)\n\u001b[0;32m    914\u001b[0m entries \u001b[39m=\u001b[39m \u001b[39mzip\u001b[39m(\u001b[39m*\u001b[39mflat_structure)\n\u001b[0;32m    916\u001b[0m \u001b[39mreturn\u001b[39;00m pack_sequence_as(\n\u001b[1;32m--> 917\u001b[0m     structure[\u001b[39m0\u001b[39m], [func(\u001b[39m*\u001b[39mx) \u001b[39mfor\u001b[39;00m x \u001b[39min\u001b[39;00m entries],\n\u001b[0;32m    918\u001b[0m     expand_composites\u001b[39m=\u001b[39mexpand_composites)\n",
      "File \u001b[1;32mc:\\Users\\7891zb\\Miniconda3\\envs\\tfenv\\lib\\site-packages\\tensorflow\\python\\util\\nest.py:917\u001b[0m, in \u001b[0;36m<listcomp>\u001b[1;34m(.0)\u001b[0m\n\u001b[0;32m    913\u001b[0m flat_structure \u001b[39m=\u001b[39m (flatten(s, expand_composites) \u001b[39mfor\u001b[39;00m s \u001b[39min\u001b[39;00m structure)\n\u001b[0;32m    914\u001b[0m entries \u001b[39m=\u001b[39m \u001b[39mzip\u001b[39m(\u001b[39m*\u001b[39mflat_structure)\n\u001b[0;32m    916\u001b[0m \u001b[39mreturn\u001b[39;00m pack_sequence_as(\n\u001b[1;32m--> 917\u001b[0m     structure[\u001b[39m0\u001b[39m], [func(\u001b[39m*\u001b[39;49mx) \u001b[39mfor\u001b[39;00m x \u001b[39min\u001b[39;00m entries],\n\u001b[0;32m    918\u001b[0m     expand_composites\u001b[39m=\u001b[39mexpand_composites)\n",
      "File \u001b[1;32mc:\\Users\\7891zb\\Miniconda3\\envs\\tfenv\\lib\\site-packages\\keras\\utils\\tf_utils.py:628\u001b[0m, in \u001b[0;36msync_to_numpy_or_python_type.<locals>._to_single_numpy_or_python_type\u001b[1;34m(t)\u001b[0m\n\u001b[0;32m    625\u001b[0m \u001b[39mdef\u001b[39;00m \u001b[39m_to_single_numpy_or_python_type\u001b[39m(t):\n\u001b[0;32m    626\u001b[0m     \u001b[39m# Don't turn ragged or sparse tensors to NumPy.\u001b[39;00m\n\u001b[0;32m    627\u001b[0m     \u001b[39mif\u001b[39;00m \u001b[39misinstance\u001b[39m(t, tf\u001b[39m.\u001b[39mTensor):\n\u001b[1;32m--> 628\u001b[0m         t \u001b[39m=\u001b[39m t\u001b[39m.\u001b[39;49mnumpy()\n\u001b[0;32m    629\u001b[0m     \u001b[39m# Strings, ragged and sparse tensors don't have .item(). Return them\u001b[39;00m\n\u001b[0;32m    630\u001b[0m     \u001b[39m# as-is.\u001b[39;00m\n\u001b[0;32m    631\u001b[0m     \u001b[39mif\u001b[39;00m \u001b[39mnot\u001b[39;00m \u001b[39misinstance\u001b[39m(t, (np\u001b[39m.\u001b[39mndarray, np\u001b[39m.\u001b[39mgeneric)):\n",
      "File \u001b[1;32mc:\\Users\\7891zb\\Miniconda3\\envs\\tfenv\\lib\\site-packages\\tensorflow\\python\\framework\\ops.py:1157\u001b[0m, in \u001b[0;36m_EagerTensorBase.numpy\u001b[1;34m(self)\u001b[0m\n\u001b[0;32m   1134\u001b[0m \u001b[39m\"\"\"Copy of the contents of this Tensor into a NumPy array or scalar.\u001b[39;00m\n\u001b[0;32m   1135\u001b[0m \n\u001b[0;32m   1136\u001b[0m \u001b[39mUnlike NumPy arrays, Tensors are immutable, so this method has to copy\u001b[39;00m\n\u001b[1;32m   (...)\u001b[0m\n\u001b[0;32m   1154\u001b[0m \u001b[39m    NumPy dtype.\u001b[39;00m\n\u001b[0;32m   1155\u001b[0m \u001b[39m\"\"\"\u001b[39;00m\n\u001b[0;32m   1156\u001b[0m \u001b[39m# TODO(slebedev): Consider avoiding a copy for non-CPU or remote tensors.\u001b[39;00m\n\u001b[1;32m-> 1157\u001b[0m maybe_arr \u001b[39m=\u001b[39m \u001b[39mself\u001b[39;49m\u001b[39m.\u001b[39;49m_numpy()  \u001b[39m# pylint: disable=protected-access\u001b[39;00m\n\u001b[0;32m   1158\u001b[0m \u001b[39mreturn\u001b[39;00m maybe_arr\u001b[39m.\u001b[39mcopy() \u001b[39mif\u001b[39;00m \u001b[39misinstance\u001b[39m(maybe_arr, np\u001b[39m.\u001b[39mndarray) \u001b[39melse\u001b[39;00m maybe_arr\n",
      "File \u001b[1;32mc:\\Users\\7891zb\\Miniconda3\\envs\\tfenv\\lib\\site-packages\\tensorflow\\python\\framework\\ops.py:1123\u001b[0m, in \u001b[0;36m_EagerTensorBase._numpy\u001b[1;34m(self)\u001b[0m\n\u001b[0;32m   1121\u001b[0m \u001b[39mdef\u001b[39;00m \u001b[39m_numpy\u001b[39m(\u001b[39mself\u001b[39m):\n\u001b[0;32m   1122\u001b[0m   \u001b[39mtry\u001b[39;00m:\n\u001b[1;32m-> 1123\u001b[0m     \u001b[39mreturn\u001b[39;00m \u001b[39mself\u001b[39;49m\u001b[39m.\u001b[39;49m_numpy_internal()\n\u001b[0;32m   1124\u001b[0m   \u001b[39mexcept\u001b[39;00m core\u001b[39m.\u001b[39m_NotOkStatusException \u001b[39mas\u001b[39;00m e:  \u001b[39m# pylint: disable=protected-access\u001b[39;00m\n\u001b[0;32m   1125\u001b[0m     \u001b[39mraise\u001b[39;00m core\u001b[39m.\u001b[39m_status_to_exception(e) \u001b[39mfrom\u001b[39;00m \u001b[39mNone\u001b[39m\n",
      "\u001b[1;31mKeyboardInterrupt\u001b[0m: "
     ]
    }
   ],
   "source": [
    "def create_model(input_dim):\n",
    "    keras.backend.clear_session()\n",
    "    model = keras.models.Sequential([\n",
    "        tf.keras.layers.Reshape((input_dim, 1),  input_shape=(input_dim,)),\n",
    "        keras.layers.LSTM(1, recurrent_activation=\"relu\")\n",
    "    ])\n",
    "\n",
    "    model.compile(loss=\"mse\", optimizer=\"adam\", metrics=[\"mse\"])\n",
    "\n",
    "    model.summary()\n",
    "\n",
    "    return model\n",
    "\n",
    "model = create_model(input_dim=D)\n",
    "hist = model.fit( x,y, batch_size=16, epochs=100,verbose=1, validation_split=0.125)\n",
    "hdf = pd.DataFrame(hist.history)\n",
    "hdf.plot()\n",
    "hdf.tail(10)"
   ]
  },
  {
   "cell_type": "code",
   "execution_count": 6,
   "metadata": {},
   "outputs": [
    {
     "name": "stdout",
     "output_type": "stream",
     "text": [
      "1/1 [==============================] - 0s 269ms/step\n"
     ]
    },
    {
     "data": {
      "text/plain": [
       "(array([[ 0.86740774],\n",
       "        [-0.44046977],\n",
       "        [-0.75929314],\n",
       "        [ 0.54484475],\n",
       "        [-0.7954091 ]], dtype=float32),\n",
       " array([ 1.39024676, -0.3513331 , -1.51444589,  0.99917448, -1.88631181]))"
      ]
     },
     "execution_count": 6,
     "metadata": {},
     "output_type": "execute_result"
    }
   ],
   "source": [
    "model.predict(x[:5]), y[:5] "
   ]
  },
  {
   "cell_type": "code",
   "execution_count": null,
   "metadata": {},
   "outputs": [],
   "source": []
  }
 ],
 "metadata": {
  "kernelspec": {
   "display_name": "tfenv",
   "language": "python",
   "name": "python3"
  },
  "language_info": {
   "codemirror_mode": {
    "name": "ipython",
    "version": 3
   },
   "file_extension": ".py",
   "mimetype": "text/x-python",
   "name": "python",
   "nbconvert_exporter": "python",
   "pygments_lexer": "ipython3",
   "version": "3.10.8 | packaged by conda-forge | (main, Nov 24 2022, 14:07:00) [MSC v.1916 64 bit (AMD64)]"
  },
  "orig_nbformat": 4,
  "vscode": {
   "interpreter": {
    "hash": "9c7e92d8f7cbada54fc4025b4c9b9527ffad52170e7a13f1f1e25daac9570506"
   }
  }
 },
 "nbformat": 4,
 "nbformat_minor": 2
}
